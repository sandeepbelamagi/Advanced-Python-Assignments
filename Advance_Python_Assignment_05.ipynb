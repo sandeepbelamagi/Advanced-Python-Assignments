{
 "cells": [
  {
   "cell_type": "markdown",
   "metadata": {},
   "source": [
    "##### Q1. What is the meaning of multiple inheritance?\n",
    "\n",
    "**Ans :** When a class is derived from more than one base class it is called multiple Inheritance. The derived class inherits all the features of the base case."
   ]
  },
  {
   "cell_type": "code",
   "execution_count": 2,
   "metadata": {},
   "outputs": [
    {
     "name": "stdout",
     "output_type": "stream",
     "text": [
      "Hello Everyone!!!\n",
      "Father : Harry\n",
      "Mother : Ginny\n"
     ]
    }
   ],
   "source": [
    "# example\n",
    "class Father:\n",
    "    fname = \"\"\n",
    "    def father(self):\n",
    "        print(self.name)\n",
    "\n",
    "class Mother:\n",
    "    mname = \"\"\n",
    "    def mother(self):\n",
    "        print(self.name)\n",
    "\n",
    "class Child(Father, Mother):\n",
    "    def parents(self):\n",
    "        super().__init__()\n",
    "        print(\"Hello Everyone!!!\")\n",
    "        print(\"Father :\", self.fname)\n",
    "        print(\"Mother :\", self.mname)\n",
    "\n",
    "s1 = Child()\n",
    "s1.fname = \"Harry\"\n",
    "s1.mname = \"Ginny\"\n",
    "s1.parents()\n"
   ]
  },
  {
   "cell_type": "markdown",
   "metadata": {},
   "source": [
    "##### Q2. What is the concept of delegation?\n",
    "\n",
    "**Ans :** Delegation is an object oriented technique (also called a design pattern). Let's say you have an object x and want to change the behaviour of just one of its methods. You can create a new class that provides a new implementation of the method you're interested in changing and delegates all other methods to the corresponding method of x.\n",
    "\n",
    "Python programmers can easily implement delegation. For example, the following class implements a class that behaves like a file but converts all written data to uppercase:"
   ]
  },
  {
   "cell_type": "code",
   "execution_count": 3,
   "metadata": {},
   "outputs": [],
   "source": [
    "class UpperOut:\n",
    "\n",
    "    def __init__(self, outfile):\n",
    "        self._outfile = outfile\n",
    "\n",
    "    def write(self, s):\n",
    "        self._outfile.write(s.upper())\n",
    "\n",
    "    def __getattr__(self, name):\n",
    "        return getattr(self._outfile, name)"
   ]
  },
  {
   "cell_type": "markdown",
   "metadata": {},
   "source": [
    "##### Q3. What is the concept of composition?\n",
    "\n",
    "**Ans :** Composition is a concept that models a has a relationship. It enables creating complex types by combining objects of other types."
   ]
  },
  {
   "cell_type": "code",
   "execution_count": 4,
   "metadata": {},
   "outputs": [
    {
     "name": "stdout",
     "output_type": "stream",
     "text": [
      "Function ran from class Thing().\n",
      "Function ran from class OtherThing().\n"
     ]
    }
   ],
   "source": [
    "# Example\n",
    "\n",
    "class Thing(object):\n",
    "    \n",
    "    def func(self):\n",
    "        print(\"Function ran from class Thing().\")\n",
    "\n",
    "class OtherThing(object): # Note that I don't use inheritance to get the func() function\n",
    "    \n",
    "    def __init__(self):\n",
    "        self.thing = Thing() # Setting the composition, see how this class has-a another class in it?\n",
    "        \n",
    "    def func(self):\n",
    "        self.thing.func() # Just runs the function in class Thing()\n",
    "    \n",
    "    def otherfunc(self):\n",
    "        print(\"Function ran from class OtherThing().\")\n",
    "\n",
    "random_object = OtherThing()\n",
    "\n",
    "random_object.func() # Still works, even though it didn't inherit from class Thing()\n",
    "random_object.otherfunc()"
   ]
  },
  {
   "cell_type": "markdown",
   "metadata": {},
   "source": [
    "##### Q4. What are bound methods and how do we use them?\n",
    "\n",
    "**Ans :** A bound method is the one which is dependent on the instance of the class as the first argument. It passes the instance as the first argument which is used to access the variables and functions. In Python 3 and newer versions of python, all functions in the class are by default bound methods."
   ]
  },
  {
   "cell_type": "code",
   "execution_count": 5,
   "metadata": {},
   "outputs": [
    {
     "name": "stdout",
     "output_type": "stream",
     "text": [
      "Car1 gears before calling change_gears() =  5\n",
      "Gears after calling change_gears() =  6\n",
      "<bound method Car.change_gears of <class '__main__.Car'>>\n"
     ]
    }
   ],
   "source": [
    "class Car:\n",
    "    # Car class created\n",
    "    gears = 5\n",
    "\n",
    "    # a class method to change the number of gears\n",
    "    @classmethod\n",
    "    def change_gears(cls, gears):\n",
    "        cls.gears = gears\n",
    "\n",
    "\n",
    "Car1 = Car()\n",
    "\n",
    "\n",
    "print(\"Car1 gears before calling change_gears() = \", Car1.gears)\n",
    "Car1.change_gears(6)\n",
    "print(\"Gears after calling change_gears() = \", Car1.gears)\n",
    "\n",
    "# bound method\n",
    "print(Car1.change_gears)\n"
   ]
  },
  {
   "cell_type": "markdown",
   "metadata": {},
   "source": [
    "##### Q5. What is the purpose of pseudoprivate attributes?\n",
    "\n",
    "**Ans:** Pseudoprivate attributes are also useful in larger frameworks or tools, both to avoid introducing new method names that might accidentally hide definitions elsewhere in the class tree and to reduce the chance of internal methods being replaced by names defined lower in the tree. If a method is intended for use only within a class that may be mixed into other classes, the double underscore prefix ensures that the method won't interfere with other names in the tree, especially in multiple-inheritance scenarios\n",
    "\n",
    "Pseudoprivate names also prevent subclasses from accidentally redefining the internal method's names,"
   ]
  },
  {
   "cell_type": "code",
   "execution_count": 6,
   "metadata": {},
   "outputs": [],
   "source": [
    "class Super:\n",
    "    def method(self): # A real application method\n",
    "        pass\n",
    "class Tool:\n",
    "    def _method(self): # becomes _Tool_method\n",
    "        pass\n",
    "    def other(self): # uses internal method\n",
    "        self._method()\n",
    "class Subl(Tool,Super):\n",
    "    def actions(self):\n",
    "        self.method()\n",
    "class Sub2(Tool):\n",
    "    def __init__(self):\n",
    "        self.method = 99"
   ]
  }
 ],
 "metadata": {
  "kernelspec": {
   "display_name": "Python 3",
   "language": "python",
   "name": "python3"
  },
  "language_info": {
   "codemirror_mode": {
    "name": "ipython",
    "version": 3
   },
   "file_extension": ".py",
   "mimetype": "text/x-python",
   "name": "python",
   "nbconvert_exporter": "python",
   "pygments_lexer": "ipython3",
   "version": "3.8.5"
  }
 },
 "nbformat": 4,
 "nbformat_minor": 4
}
