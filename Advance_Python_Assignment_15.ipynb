{
 "cells": [
  {
   "cell_type": "markdown",
   "metadata": {},
   "source": [
    "###### 1. What are the new features added in Python 3.8 version?\n",
    "\n",
    "**Ans:**\n",
    "\n",
    "**1. PEP 572 (Assignment Expressions) – The walrus operator (:=)**\n",
    "You will get to see a new type of operator which is being known as the walrus operator (:=).\n",
    "\n",
    "This allows you to assign variables inside an expression. The major benefit of this is to save you some lines of code and you can write even cleaner and compact code in Python."
   ]
  },
  {
   "cell_type": "code",
   "execution_count": 1,
   "metadata": {},
   "outputs": [
    {
     "name": "stdout",
     "output_type": "stream",
     "text": [
      "Length of list is small, size=5\n"
     ]
    }
   ],
   "source": [
    "num = [1,2,3,4,5]\n",
    "if( (size:=len(num)) < 10 ):\n",
    "    print(f\"Length of list is small, size={size}\")"
   ]
  },
  {
   "cell_type": "markdown",
   "metadata": {},
   "source": [
    "**2. PEP 570 (Positional only arguments)**\n",
    "\n",
    "There is a new function parameter syntax (/) to highlight that some of the functions must be stated positionally and not by keyword arguments.\n",
    "\n",
    "We also have an operator (*) that indicates that the arguments must be keyword only.\n",
    "\n",
    "This can be a little confusing but after seeing the code this gets easier to understand, so let’s see them in action."
   ]
  },
  {
   "cell_type": "code",
   "execution_count": 2,
   "metadata": {},
   "outputs": [
    {
     "name": "stdout",
     "output_type": "stream",
     "text": [
      "3 2 6 2\n",
      "1 3 4 5\n"
     ]
    }
   ],
   "source": [
    "def func(a, b, c, d):\n",
    "    print(a,b,c,d)\n",
    "\n",
    "func(d=2, a=3, b=2, c=6) #Valid - prints 3 2 6 2\n",
    "func(1,3,4,5) #Valid - prints 1 2 4 5"
   ]
  },
  {
   "cell_type": "markdown",
   "metadata": {},
   "source": [
    "**3. PEP 590 ( Vectorcall)**\n",
    "\n",
    "This release has made some improvements in the vector call which is a fast calling protocol for CPython.\n",
    "\n",
    "A new C API is introduced to optimize the calls of objects.\n",
    "\n",
    "This feature was already used in CPython but with the new C API, “fastcall” convention can be used by a user-defined extension class.\n",
    "\n",
    "**4. PEP 574 ( Pickle Protocol 5 with out-of-band data)**\n",
    "\n",
    "Pickle is useful to transfer big amounts of data between Python processors to take full advantage of multicore processors.\n",
    "\n",
    "It’s important to maximize the transfer speed by optimizing memory copies. Pickle protocol 5 now supports out-of-band data buffers and extra metadata is required.\n",
    "\n",
    "    * PickleBuffer type for __reduce_ex__ returns out-of-band buffers.\n",
    "    * buffer_callback parameter while pickling handles out-of-band data buffers.\n",
    "    * buffers parameter while unpickling shows out-of-band data buffers."
   ]
  },
  {
   "cell_type": "markdown",
   "metadata": {},
   "source": [
    "**5. F-strings now support = (Easy debugging)**\n",
    "\n",
    "A small improvement has been made in the f-strings formatting. They can now support = operator in f-strings that allows debugging easier."
   ]
  },
  {
   "cell_type": "code",
   "execution_count": 3,
   "metadata": {},
   "outputs": [
    {
     "name": "stdout",
     "output_type": "stream",
     "text": [
      "A=5\n"
     ]
    }
   ],
   "source": [
    "A=5\n",
    "print(f\"{A=}\")"
   ]
  },
  {
   "cell_type": "markdown",
   "metadata": {},
   "source": [
    "**6. Improved Typing**\n",
    "\n",
    "***6.1 PEP 591 ( Final qualifier )***\n",
    "\n",
    "Python now supports the “final”. Java programmers already know about this. It has 3 major uses:\n",
    "\n",
    "    * Declaring a class final will prevent it from inheriting.\n",
    "    * Declaring a variable final will prevent it from reassigning the value.\n",
    "    * Declaring a method final will prevent it from being overridden.\n",
    "\n",
    "***6.2 PEP 586 (Literal types )***\n",
    "Literal types are useful to know the literal value of an attribute or a variable. They are useful in type checking.\n",
    "\n",
    "Consider this expression:\n",
    "\n",
    "0== False\n",
    "\n",
    "This will give True as a result but 0 is of type integer and False is of type bool. So with literal, we can force type checks to be literally some specific type."
   ]
  },
  {
   "cell_type": "markdown",
   "metadata": {},
   "source": [
    "###### 2. What is monkey patching in Python?\n",
    "\n",
    "**Ans:** In Python, the term monkey patch refers to making dynamic (or run-time) modifications to a class or module. In Python, we can actually change the behavior of code at run-time"
   ]
  },
  {
   "cell_type": "code",
   "execution_count": 4,
   "metadata": {},
   "outputs": [
    {
     "name": "stdout",
     "output_type": "stream",
     "text": [
      "monkey_f() is being called\n"
     ]
    }
   ],
   "source": [
    "class A:\n",
    "    def func(self):\n",
    "        print(\"func() is being called\")\n",
    "\n",
    "def monkey_f(self):\n",
    "    print(\"monkey_f() is being called\")\n",
    "\n",
    "A.func = monkey_f\n",
    "some_object = A()\n",
    "some_object.func()"
   ]
  },
  {
   "cell_type": "markdown",
   "metadata": {},
   "source": [
    "###### 3. What is the difference between a shallow copy and deep copy?\n",
    "\n",
    "**Ans:** The Differences between a Shallow Copy and deep copy are as follows:\n",
    "\n",
    "When an object is copied using **copy()**, it is called shallow copy as changes made in copied object will also make corresponding changes in original object, because both the objects will be referencing same address location.\n",
    "\n",
    "When an object is copied using **deepcopy()**, it is called deep copy as changes made in copied object will not make corresponding changes in original object, because both the objects will not be referencing same address location."
   ]
  },
  {
   "cell_type": "code",
   "execution_count": 5,
   "metadata": {},
   "outputs": [
    {
     "name": "stdout",
     "output_type": "stream",
     "text": [
      "Original Elements of each List\n",
      "[1, 2, [3, 4], 5, 6]\n",
      "[1, 2, [3, 4], 5, 6]\n",
      "[1, 2, [3, 4], 5, 6]\n",
      "New Elements of each List\n",
      "[1, 2, [3, 4], 5, 20]\n",
      "[10, 2, [3, 4], 5, 6]\n",
      "[1, 2, [3, 4], 5, 20]\n"
     ]
    }
   ],
   "source": [
    "from copy import deepcopy, copy\n",
    "l_one = [1,2,[3,4],5,6]\n",
    "l_two = deepcopy(l_one)\n",
    "l_three = l_one\n",
    "print(f'Original Elements of each List\\n{l_one}\\n{l_two}\\n{l_three}')\n",
    "l_two[0] = 10\n",
    "l_three[-1] = 20\n",
    "print(f'New Elements of each List\\n{l_one}\\n{l_two}\\n{l_three}')"
   ]
  },
  {
   "cell_type": "markdown",
   "metadata": {},
   "source": [
    "###### 4. What is the maximum possible length of an identifier?\n",
    "\n",
    "**Ans:** In Python, the highest possible length of an identifier is 79 characters. Python is a high level programming language. It’s also a complex form and a collector of waste.\n",
    "\n",
    "    * Python, particularly when combined with identifiers, is case-sensitive.\n",
    "    * When writing or using identifiers in Python, it has a maximum of 79 characters.\n",
    "    * Unlikely, Python gives the identifiers unlimited length.\n",
    "    * However, the layout of PEP-8 prevents the user from breaking the rules and includes a 79-character limit."
   ]
  },
  {
   "cell_type": "markdown",
   "metadata": {},
   "source": [
    "###### 5. What is generator comprehension?\n",
    "\n",
    "**Ans:** A generator comprehension is a single-line specification for defining a generator in Python.\n",
    "\n",
    "    * It is absolutely essential to learn this syntax in order to write simple and readable code.\n",
    "    * Generator comprehension uses round bracket unlike square bracket in list comprehension.\n",
    "    * The generator yields one item at a time and generates item only when in demand. Whereas, in a list comprehension, Python reserves memory for the whole list. Thus we can say that the generator expressions are memory efficient than the lists."
   ]
  },
  {
   "cell_type": "code",
   "execution_count": 6,
   "metadata": {},
   "outputs": [
    {
     "name": "stdout",
     "output_type": "stream",
     "text": [
      "[0, 1, 2, 3, 4, 5, 6, 7, 8, 9]\n",
      "<generator object <genexpr> at 0x000002B665412900>\n",
      "0 2 4 6 8 "
     ]
    }
   ],
   "source": [
    "in_list = [x for x in range(10)] # List Comprehension\n",
    "print(in_list)\n",
    "out_gen = (x for x in in_list if x%2 == 0) # Generator Comprehension\n",
    "print(out_gen) # Returns a Generator Object\n",
    "for ele in out_gen:\n",
    "    print(ele, end=\" \")"
   ]
  }
 ],
 "metadata": {
  "kernelspec": {
   "display_name": "Python 3",
   "language": "python",
   "name": "python3"
  },
  "language_info": {
   "codemirror_mode": {
    "name": "ipython",
    "version": 3
   },
   "file_extension": ".py",
   "mimetype": "text/x-python",
   "name": "python",
   "nbconvert_exporter": "python",
   "pygments_lexer": "ipython3",
   "version": "3.8.5"
  }
 },
 "nbformat": 4,
 "nbformat_minor": 4
}
