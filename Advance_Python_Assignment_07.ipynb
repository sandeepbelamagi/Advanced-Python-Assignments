{
 "cells": [
  {
   "cell_type": "markdown",
   "metadata": {},
   "source": [
    "###### Q1. What is the purpose of the try statement?\n",
    "\n",
    "The try block is used to check some code for errors i.e the code inside the try block will execute when there is no error in the program.\n",
    "\n",
    "Working of try block:\n",
    "1. First, the try clause is executed i.e. the code between try and except clause.\n",
    "2. If there is no exception, then only the try clause will run, except the clause is finished.\n",
    "3. If any exception occurs, the try clause will be skipped and except clause will run.\n",
    "4. If any exception occurs, but the except clause within the code doesn’t handle it, it is passed on to the outer try statements. If the exception is left unhandled, then the execution stops.\n",
    "5. A try statement can have more than one except clause"
   ]
  },
  {
   "cell_type": "code",
   "execution_count": 1,
   "metadata": {},
   "outputs": [
    {
     "name": "stdout",
     "output_type": "stream",
     "text": [
      "Divided by zero\n",
      "Should reach here\n"
     ]
    }
   ],
   "source": [
    "try: \n",
    "    1 / 0\n",
    "except ZeroDivisionError: \n",
    "    print('Divided by zero')\n",
    "\n",
    "print('Should reach here')"
   ]
  },
  {
   "cell_type": "markdown",
   "metadata": {},
   "source": [
    "###### Q2. What are the two most popular try statement variations?\n",
    "\n",
    "__Ans:__ The Popular try statement variations are:\n",
    "\n",
    "1. **try,except**\n",
    "2. **try,except,finally**\n",
    "3. **try,except,finally,else**\n",
    "\n",
    "The $try$ block is used to check code for exceptions during runtime. i.e. code inside $try$ block will execute completely when there is no error in the program where as the code inside $except$ block will execute whenever the program encounters some error in the preceeding $try$ block.\n",
    "\n",
    "Where as the code enters the $else$ block if and only if the try clause does not raise an exception. The code in the $finally$ block will execute irrespective of exception."
   ]
  },
  {
   "cell_type": "markdown",
   "metadata": {},
   "source": [
    "###### Q3. What is the purpose of the raise statement?\n",
    "\n",
    "**Ans:** **raise** statement is used to trigger an exception explicitly, if a certain condition is not as per requirement of programmer. **raise** statement helps in triggering exception as per programming logic."
   ]
  },
  {
   "cell_type": "markdown",
   "metadata": {},
   "source": [
    "###### Q4. What does the assert statement do, and what other statement is it like?\n",
    "\n",
    "**Ans:** There are few assertions that programmer always want to be true to avoid code failure. This type of requirement is fulfilled by **assert** statement. This statement takes a boolean condition output of which is True which in turn helps Further Program Execute. If output of assert statement is False, it raises an Assertion Error."
   ]
  },
  {
   "cell_type": "code",
   "execution_count": 2,
   "metadata": {},
   "outputs": [
    {
     "ename": "AssertionError",
     "evalue": "this is not a valid statement",
     "output_type": "error",
     "traceback": [
      "\u001b[1;31m---------------------------------------------------------------------------\u001b[0m",
      "\u001b[1;31mAssertionError\u001b[0m                            Traceback (most recent call last)",
      "\u001b[1;32m<ipython-input-2-32a4b0eccebf>\u001b[0m in \u001b[0;36m<module>\u001b[1;34m\u001b[0m\n\u001b[1;32m----> 1\u001b[1;33m \u001b[1;32massert\u001b[0m\u001b[1;33m(\u001b[0m\u001b[1;36m2\u001b[0m \u001b[1;33m==\u001b[0m \u001b[1;36m10\u001b[0m\u001b[1;33m)\u001b[0m\u001b[1;33m,\u001b[0m \u001b[1;34mf'this is not a valid statement'\u001b[0m\u001b[1;33m\u001b[0m\u001b[1;33m\u001b[0m\u001b[0m\n\u001b[0m",
      "\u001b[1;31mAssertionError\u001b[0m: this is not a valid statement"
     ]
    }
   ],
   "source": [
    "assert(2 == 10), f'this is not a valid statement'"
   ]
  },
  {
   "cell_type": "markdown",
   "metadata": {},
   "source": [
    "###### Q5. What is the purpose of the with/as argument, and what other statement is it like?\n",
    "\n",
    "Ans: with/as statement simplifies use of file handling in python. When we use a with statement for file reading, there is no need for programmer to explicitly take care of activities like resource deallocation and file closing by using file.close() method. with statement itself ensures proper acquisition and release of resources. This avoids triggering of exceptions if the file closing is unknowingly forgotten in the code execution.\n",
    "\n",
    "    with open('sample_file.txt','w') as file:\n",
    "    \n",
    "        file.write('Hello World')"
   ]
  }
 ],
 "metadata": {
  "kernelspec": {
   "display_name": "Python 3",
   "language": "python",
   "name": "python3"
  },
  "language_info": {
   "codemirror_mode": {
    "name": "ipython",
    "version": 3
   },
   "file_extension": ".py",
   "mimetype": "text/x-python",
   "name": "python",
   "nbconvert_exporter": "python",
   "pygments_lexer": "ipython3",
   "version": "3.8.5"
  }
 },
 "nbformat": 4,
 "nbformat_minor": 4
}
