{
 "cells": [
  {
   "cell_type": "markdown",
   "metadata": {},
   "source": [
    "###### Q1. Describe the differences between text and binary files in a single paragraph.\n",
    "Ans:\n",
    "\n",
    "**Text files:** are special subset of binary files that are used to store human readable characters as a rich text document or plain text document. Text files also store data in sequential bytes but bits in text file represents characters. Text files are less prone to get corrupted as any undesired change may just show up once the file is opened and then can easily be removed.\n",
    "\n",
    "**Binary file:** are those typical files that store data in the form of sequence of bytes grouped into eight bits or sometimes sixteen bits. These bits represent custom data and such files can store multiple types of data (images, audio, text, etc) under a single file. Binary file can have custom file formats and the developer, who designs these custom file formats, converts the information, to be stored, in bits and arranges these bits in binary file so that they are well understood by the supporting application and when needed, can easily be read by the supporting application."
   ]
  },
  {
   "cell_type": "markdown",
   "metadata": {},
   "source": [
    "###### Q2. What are some scenarios where using text files will be the better option? When would you like to use binary files instead of text files?\n",
    "Ans:\n",
    "\n",
    "Text files are less prone to get corrupted as any undesired change may just show up once the file is opened and then can easily be removed whereas binary files can be used instead of text files for image data/video/audio. For many types of data, binary representations are much more space-efficient. For instance, you could represent an image as a text file. But any color represented as a 24-bit RGB value in a binary file has to be represented as a six-character code (e.g. FFFFFF for white) in text, which is literally twice as many bits. Another reason for using binary formats is that they can map directly onto the internal representation of the data that the program is using. If my program uses a complex data structure that’s full of integer, float, and byte values, when I read it in from a text file I have to parse every character of text and interpret it, spending processing time (and writing logic) to figure how to convert the 88 bits in “2983102931,” into the 32-bit integer that the text represents. If I read it from a binary file, the program just copies those 32 bits from the file into memory."
   ]
  },
  {
   "cell_type": "markdown",
   "metadata": {},
   "source": [
    "###### Q3. What are some of the issues with using binary operations to read and write a Python integer directly to disc?\n",
    "Ans:\n",
    "\n",
    "While reading,read method returns a sequence of bytes as a string. While using a binary operaions i.e. using bitwise operator the integers are first converted into binary and then operations are performed on bit by bit. This is a very lengthy task from usual steps. More over it is not possible for a reader to read the integers in binary format."
   ]
  },
  {
   "cell_type": "markdown",
   "metadata": {},
   "source": [
    "###### Q4. Describe a benefit of using the with keyword instead of explicitly opening a file.\n",
    "Ans: \n",
    "\n",
    "When a file is opened using the with keyword,it automatically closes the file if some exceptions occur after opening a file, or at the end of the file . Thereby not leaving a file in open mode and also there would no need to explicitly close a file. Using with means that the file will be closed as soon as you leave the block. This is beneficial because closing a file is something that can easily be forgotten and ties up resources that you no longer need."
   ]
  },
  {
   "cell_type": "markdown",
   "metadata": {},
   "source": [
    "###### Q5. Does Python have the trailing newline while reading a line of text? Does Python append a newline when you write a line of text?\n",
    "Ans:\n",
    "\n",
    "Yes, Python have the trailing newline while reading a line of text. When we write a newline has to be provided in python excpicitly"
   ]
  },
  {
   "cell_type": "markdown",
   "metadata": {},
   "source": [
    "###### Q6. What file operations enable for random-access operation?\n",
    "Ans:\n",
    "\n",
    "RandomAccess File class is used for reading and writing to random access file. read and write file handling operation enable random access operations. With these operations, random access file allows you to read and write a small chunk of data at any position in the file, using a file pointer.\n",
    "\n",
    "Following are some of the file operations:\n",
    "\n",
    "* close(): It closes this random access file stream and releases any system resources associated with the stream.\n",
    "* write(): It writes the specifed byte to this file\n",
    "* read(): It reads a byte of data from this file.\n",
    "* length(): It returns the length of this file\n",
    "* seek(long pos): moves the file pointer to a specified position in the file.\n",
    "\n",
    "The offset is measured in bytes from the * beginning of the file. At this position, the next read or write occurs."
   ]
  },
  {
   "cell_type": "markdown",
   "metadata": {},
   "source": [
    "###### Q7. When do you think you&#39;ll use the struct package the most?\n",
    "Ans:\n",
    "\n",
    "The struct package is mostly used while converting a common python types into C language types."
   ]
  },
  {
   "cell_type": "markdown",
   "metadata": {},
   "source": [
    "###### Q8. When is pickling the best option?\n",
    "Ans:\n",
    "\n",
    "pickling is storing format of some data in the binary form to further functionality or operation of application. The data gets converted into binary format by suing pickle module. It best when we are creating some application like machine learning model and then we need save it and later stage we may need to load it for deployment."
   ]
  },
  {
   "cell_type": "markdown",
   "metadata": {},
   "source": [
    "###### Q9. When will it be best to use the shelve package?\n",
    "Ans:\n",
    "\n",
    "When we need to store the data in constant/continuos manner such that we do not require the relational data base, then we use shelve package. The shelve object defined in this module is dictionary-like object which is persistently stored in a disk file. This creates a file similar to dbm database. Only string data type can be used as key in this special dictionary object."
   ]
  },
  {
   "cell_type": "markdown",
   "metadata": {},
   "source": [
    "###### Q10. What is a special restriction when using the shelve package, as opposed to using other data dictionaries?\n",
    "Ans:\n",
    "\n",
    "Only string data type can be used as key in this special dictionary object, whereas any picklable Python object can be used as value."
   ]
  }
 ],
 "metadata": {
  "kernelspec": {
   "display_name": "Python 3",
   "language": "python",
   "name": "python3"
  },
  "language_info": {
   "codemirror_mode": {
    "name": "ipython",
    "version": 3
   },
   "file_extension": ".py",
   "mimetype": "text/x-python",
   "name": "python",
   "nbconvert_exporter": "python",
   "pygments_lexer": "ipython3",
   "version": "3.8.5"
  }
 },
 "nbformat": 4,
 "nbformat_minor": 4
}
