{
 "cells": [
  {
   "cell_type": "markdown",
   "metadata": {},
   "source": [
    "###### Q1. In Python 3.X, what are the names and functions of string object types?\n",
    "\n",
    "\n",
    "**format():** It’s used to create a formatted string from the template string and the supplied values.\n",
    "\n",
    "**split():** Python string split() function is used to split a string into the list of strings based on a delimiter.\n",
    "\n",
    "**join():** This function returns a new string that is the concatenation of the strings in iterable with string object as a delimiter.\n",
    "\n",
    "**strip():** Used to trim whitespaces from the string object.\n",
    "\n",
    "**format_map():** Python string format_map() function returns a formatted version of the string using substitutions from the mapping provided.\n",
    "\n",
    "**upper():** We can convert a string to uppercase in Python using str.upper() function.\n",
    "\n",
    "**lower():** This function creates a new string in lowercase.\n",
    "\n",
    "**replace():** Python string replace() function is used to create a new string by replacing some parts of another string.\n",
    "\n",
    "**find():**\tPython String find() method is used to find the index of a substring in a string.\n",
    "\n",
    "**translate():** Python String translate() function returns a new string with each character in the string replaced using the given translation table.\n",
    "\n",
    "**len():**\tPython String length can be determined by using built-in len() function.\n",
    "\n",
    "**ascii():**\tPython ascii() function returns the string representation of the object. This function internally calls repr() function and before returning the representation string, escapes the non-ASCII characters using \\x, \\u or \\U escapes.\n",
    "\n",
    "**bool():**\tPython bool() function returns Boolean value for an object. The bool class has only two instances – True and False.\n",
    "\n",
    "**bytearray():**\tPython bytearray() function returns a bytearray object that contains the array of bytes from the input source.\n",
    "\n",
    "**bytes():**\tThis function returns bytes object that is an immutable sequence of integers in the range 0 <= x < 256.\n",
    "\n",
    "**ord():**\tPython ord() function takes string argument of a single Unicode character and return its integer Unicode code point value.\n",
    "\n",
    "**enumerate():**\tPython enumerate function takes a sequence, and then make each element of the sequence into a tuple.\n",
    "\n",
    "**float():**\tAs the name says, python float() function returns a floating point number from the input argument.\n",
    "\n",
    "**hash():**\tThis function returns the hash value of the given object.\n",
    "\n",
    "**id():**\tPython id() function returns the “identity” of the object. The identity of an object is an integer, which is guaranteed to be unique and constant for this object during its lifetime.\n",
    "\n",
    "**int():**\tPython int() function returns an integer object from the specified input. The returned int object will always be in base 10.\n",
    "\n",
    "**map():**\tPython map() function is used to apply a function on all the elements of specified iterable and return map object.\n",
    "\n",
    "**print():**\tPython print() function is used to print data into console.\n",
    "\n",
    "**slice():**\tPython slice() function returns a slice object representing the set of indices specified by range(start, stop, step).\n",
    "\n",
    "**type():**\tThis function returns the type of the object."
   ]
  },
  {
   "cell_type": "markdown",
   "metadata": {},
   "source": [
    "###### Q2. How do the string forms in Python 3.X vary in terms of operations?\n",
    "\n",
    "**Ans:** In Python3 default format of strings is Unicode Whereas in Pyton2 we need to explicitly mention Unicode value using u."
   ]
  },
  {
   "cell_type": "markdown",
   "metadata": {},
   "source": [
    "###### Q3. In 3.X, how do you put non-ASCII Unicode characters in a string?\n",
    "\n",
    "**Ans:** In Python 3.x unidecode() method from unidecode library can be used to put non-ASCII Unicode Characters in a string."
   ]
  },
  {
   "cell_type": "code",
   "execution_count": 3,
   "metadata": {},
   "outputs": [
    {
     "name": "stdout",
     "output_type": "stream",
     "text": [
      "kozuscek\n",
      "aap niice apnii bhaassaa aur inputt upkrnn cuneN aur likhnaa aarNbh kreN\n",
      "Xie Xie Ni \n",
      "arigatou. \n",
      "ulybat'sia Vladimir Putin\n"
     ]
    }
   ],
   "source": [
    "from unidecode import unidecode\n",
    "print(unidecode(u'ko\\u017eu\\u0161\\u010dek'))\n",
    "print(unidecode(\"आप नीचे अपनी भाषा और इनपुट उपकरण चुनें और लिखना आरंभ करें\"))\n",
    "print(unidecode(\"谢谢你\"))\n",
    "print(unidecode(\"ありがとう。\"))\n",
    "print(unidecode(\"улыбаться Владимир Путин\"))"
   ]
  },
  {
   "cell_type": "markdown",
   "metadata": {},
   "source": [
    "###### Q4. In Python 3.X, what are the key differences between text-mode and binary-mode files?\n",
    "\n",
    "**Ans:** The major difference between these two is that a text file contains textual information in the form of alphabets, digits and special characters or symbols. On the other hand, a binary file contains bytes or a compiled version of a text file.\n",
    "\n",
    "When a file is opened in text mode, reading its data automatically decodes its content (as per the platform default or as per provided encoding), and returns it as a str; writing operation takes a str, and automatically encodes it before transferring to the file. Text mode files also support universal end-of-line translation, and encoding specification arguments.\n",
    "\n",
    "When a file is opened in binary mode by adding a b to the mode string argument in the open() call, reading its data does not decode it in any way, and simply returns its content raw and unchanged, as a bytes object; writing takes a bytes object and transfers it to the file unchanged. Binary-mode files also accept a bytearray object for the content to be written to the file."
   ]
  },
  {
   "cell_type": "markdown",
   "metadata": {},
   "source": [
    "###### Q5. How can you interpret a Unicode text file containing text encoded in a different encoding than your platform&#39;s default?\n",
    "\n",
    "**Ans:** Use of **encode()** and **decode()** method can be used to you interpret a Unicode text file containing text encoded in a different encoding than your platform's default, by default encoding parameter is UTF-8"
   ]
  },
  {
   "cell_type": "markdown",
   "metadata": {},
   "source": [
    "###### Q6. What is the best way to make a Unicode text file in a particular encoding format?\n",
    "\n",
    "Ans: Use $str.encode()$ and $file.write()$ to make a Unicode text file in a particular encoding format, default encoding format is UTF-18.\n",
    "\n",
    "Call $str.encode(encoding)$ with encoding set to utf8 to encode str.\n",
    "\n",
    "Call $open(file, mode)$ to open a file with mode set to wb . wb writes to files in binary mode & preserves UTF-8format.\n",
    "\n",
    "Call $file.write(data)$ to write data to the file."
   ]
  },
  {
   "cell_type": "markdown",
   "metadata": {},
   "source": [
    "###### Q7. What qualifies ASCII text as a form of Unicode text?\n",
    "\n",
    "Ans: Unicode represents most written languages in the world. **$ASCII$** has its equivalent in Unicode. The difference between ASCII and Unicode is that ASCII represents lowercase letters (a-z), uppercase letters (A-Z), digits (0–9) and symbols such as punctuation marks while Unicode represents letters of English, Arabic, Greek etc. mathematical symbols, historical scripts, emoji covering a wide range of characters than ASCII."
   ]
  },
  {
   "cell_type": "markdown",
   "metadata": {},
   "source": [
    "###### Q8. How much of an effect does the change in string types in Python 3.X have on your code?\n",
    "\n",
    "Ans: Python 3 stores strings as Unicode by default whereas Python 2 requires you to mark a string with a u if we want to store it as Unicode. Unicode strings are more versatile than ASCII strings, which are the Python 3.X default, as they can store letters from foreign languages as well as emoji and the standard Roman letters and numerals."
   ]
  }
 ],
 "metadata": {
  "kernelspec": {
   "display_name": "Python 3",
   "language": "python",
   "name": "python3"
  },
  "language_info": {
   "codemirror_mode": {
    "name": "ipython",
    "version": 3
   },
   "file_extension": ".py",
   "mimetype": "text/x-python",
   "name": "python",
   "nbconvert_exporter": "python",
   "pygments_lexer": "ipython3",
   "version": "3.8.5"
  }
 },
 "nbformat": 4,
 "nbformat_minor": 4
}
